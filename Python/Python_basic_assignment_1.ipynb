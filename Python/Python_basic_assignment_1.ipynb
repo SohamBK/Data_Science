{
 "cells": [
  {
   "cell_type": "markdown",
   "id": "b5c1fbd1-1c3e-4200-a02f-d89b9195936b",
   "metadata": {},
   "source": [
    "Q1. Create one variable containing following type of data:\n",
    "(i) string\n",
    "(ii) list\n",
    "(iii) float\n",
    "(iv) tuple"
   ]
  },
  {
   "cell_type": "code",
   "execution_count": 13,
   "id": "8ab45e0b-11fb-4cc7-9e8e-d0cc5d9d741e",
   "metadata": {},
   "outputs": [
    {
     "name": "stdout",
     "output_type": "stream",
     "text": [
      "String: soham\n",
      "\n",
      "List: \n",
      "3.5\n",
      "3.5\n",
      "3.5\n",
      "3.5\n",
      "3.5\n",
      "3.5\n",
      "\n",
      "Float: 12.34\n",
      "\n",
      "tuple: \n",
      "data\n",
      "3\n",
      "4\n",
      "4.5\n"
     ]
    }
   ],
   "source": [
    "myString = 'soham'\n",
    "myList = [1,2,3,4, 'python',3.5]\n",
    "myFloat = 12.34\n",
    "myTuple = (\"data\", 3, 4, 4.5)\n",
    "\n",
    "print('String: ' + myString)\n",
    "print()\n",
    "\n",
    "print('List: ')\n",
    "for item in myList:\n",
    "    print(char)\n",
    "print()\n",
    "\n",
    "print('Float: {}' .format(myFloat))\n",
    "print()\n",
    "\n",
    "print('tuple: ')\n",
    "for item in myTuple:\n",
    "    print(item)"
   ]
  },
  {
   "cell_type": "markdown",
   "id": "ef1c8e42-9518-491d-b6f5-67944cf1dfe5",
   "metadata": {},
   "source": [
    "Q2. Given are some following variables containing data:\n",
    "(i) var1 = ‘ ‘\n",
    "(ii) var2 = ‘[ DS , ML , Python]’\n",
    "(iii) var3 = [ ‘DS’ , ’ML’ , ‘Python’ ]\n",
    "(iv) var4 = 1.\n",
    "What will be the data type of the above given variable.\n",
    "\n",
    "Answers:\n",
    "(i) The first variable var1 is a string.\n",
    "(ii) The second variable var2 is also a string.\n",
    "(iii) The third variable var3 is of type list.\n",
    "(i) The forth variable var4 is a float."
   ]
  },
  {
   "cell_type": "code",
   "execution_count": 17,
   "id": "52d5bff5-55cc-4054-a5a1-b40cc84825e4",
   "metadata": {},
   "outputs": [
    {
     "name": "stdout",
     "output_type": "stream",
     "text": [
      "<class 'str'>\n",
      "<class 'str'>\n",
      "<class 'list'>\n",
      "<class 'float'>\n"
     ]
    }
   ],
   "source": [
    "var1 = ' '\n",
    "print(type(var1))\n",
    "var2 = '[ DS , ML , Python]'\n",
    "print(type(var2))\n",
    "var3 = ['DS', 'ML', 'Python']\n",
    "print(type(var3))\n",
    "var4 = 1.\n",
    "print(type(var4))"
   ]
  },
  {
   "cell_type": "markdown",
   "id": "a496eb1e-5c6c-4104-a276-44d4ff3a2407",
   "metadata": {},
   "source": [
    "Q3. Explain the use of the following operators using an example:\n",
    "(i) /\n",
    "(ii) %\n",
    "(iii) //\n",
    "(iv) **"
   ]
  },
  {
   "cell_type": "markdown",
   "id": "62815b94-eba4-468e-b1dc-25e061b6cf86",
   "metadata": {},
   "source": [
    "Answer:\n",
    "(i) /\n",
    "This oprator is for division. It will give quotient after the division of two numbers.\n",
    "\n",
    "(ii) % \n",
    "This oprator is for modulous. It will return remainder after the division of two numbers.\n",
    "\n",
    "(iii) // \n",
    "This oprator also returns quotient but rouds it to nearest whole number.\n",
    "\n",
    "(iv) **\n",
    "This operator is used to raise the number on its left to the power of the number on its right.\n",
    "\n",
    "Below are example of each of the oprator above:"
   ]
  },
  {
   "cell_type": "code",
   "execution_count": 19,
   "id": "70f0b139-ff89-4ea7-8692-f1b4c92a37f4",
   "metadata": {},
   "outputs": [
    {
     "name": "stdout",
     "output_type": "stream",
     "text": [
      "6.0\n",
      "0\n",
      "6\n",
      "604661760000000000\n"
     ]
    }
   ],
   "source": [
    "var1 = 60\n",
    "var2 = 10\n",
    "myResult1 = var1 / var2\n",
    "print(myResult1)\n",
    "myResult2 = var1 % var2\n",
    "print(myResult2)\n",
    "myResult3 = var1 // var2\n",
    "print(myResult3)\n",
    "myResult4 = var1 ** var2\n",
    "print(myResult4)"
   ]
  },
  {
   "cell_type": "markdown",
   "id": "0a27e063-f669-4df1-8e8c-84852e93dd60",
   "metadata": {},
   "source": [
    "Q4. Create a list of length 10 of your choice containing multiple types of data. Using for loop print the\n",
    "element and its data type."
   ]
  },
  {
   "cell_type": "code",
   "execution_count": 20,
   "id": "b86b5548-ddea-4aff-94fe-b318327cdd38",
   "metadata": {},
   "outputs": [
    {
     "name": "stdout",
     "output_type": "stream",
     "text": [
      "1\n",
      "<class 'int'>\n",
      "2\n",
      "<class 'int'>\n",
      "3\n",
      "<class 'int'>\n",
      "4\n",
      "<class 'int'>\n",
      "4.5\n",
      "<class 'float'>\n",
      "5\n",
      "<class 'int'>\n",
      "pw\n",
      "<class 'str'>\n",
      "[6, 7, 8, 9]\n",
      "<class 'list'>\n",
      "10\n",
      "<class 'int'>\n"
     ]
    }
   ],
   "source": [
    "myList = [1,2,3,4, 4.5, 5, 'pw', [6,7,8,9], 10]\n",
    "for item in myList:\n",
    "    print(item)\n",
    "    print(type(item))"
   ]
  },
  {
   "cell_type": "markdown",
   "id": "7d2d736f-2e46-4cbb-a557-922afdefcb97",
   "metadata": {},
   "source": [
    "Q5. Using a while loop, verify if the number A is purely divisible by number B and if so then how many\n",
    "times it can be divisible."
   ]
  },
  {
   "cell_type": "code",
   "execution_count": 2,
   "id": "20192d4d-0aa6-42ab-ad4d-f9765e48e9ac",
   "metadata": {},
   "outputs": [
    {
     "name": "stdout",
     "output_type": "stream",
     "text": [
      "Please enter first number 20\n",
      "Please enter second number 10\n"
     ]
    },
    {
     "name": "stdout",
     "output_type": "stream",
     "text": [
      "2\n"
     ]
    }
   ],
   "source": [
    "numberA = int(input('Please enter first number'))\n",
    "numberB = int(input('Please enter second number'))\n",
    "\n",
    "count = 0\n",
    "\n",
    "while numberA >= numberB:\n",
    "    numberA -= numberB\n",
    "    count += 1\n",
    "\n",
    "if numberA == 0:\n",
    "    print(count)"
   ]
  },
  {
   "cell_type": "markdown",
   "id": "16094fe2-2870-43d1-ade3-aaa2e6fc20f8",
   "metadata": {},
   "source": [
    "Q6. Create a list containing 25 int type data. Using for loop and if-else condition print if the element is\n",
    "divisible by 3 or not."
   ]
  },
  {
   "cell_type": "code",
   "execution_count": 6,
   "id": "9c6267c3-984e-4a73-bd9c-0d27350f846e",
   "metadata": {},
   "outputs": [
    {
     "name": "stdout",
     "output_type": "stream",
     "text": [
      "The number 3 is divisible by 3.\n",
      "The number 6 is divisible by 3.\n",
      "The number 9 is divisible by 3.\n",
      "The number 12 is divisible by 3.\n",
      "The number 15 is divisible by 3.\n",
      "The number 18 is divisible by 3.\n",
      "The number 21 is divisible by 3.\n",
      "The number 24 is divisible by 3.\n"
     ]
    }
   ],
   "source": [
    "myList = list(range(1,26))\n",
    "for item in myList:\n",
    "    if item % 3 == 0:\n",
    "        print(f\"The number {item} is divisible by 3.\")"
   ]
  },
  {
   "cell_type": "markdown",
   "id": "6099c4c7-98ac-4646-827a-7b395509b35d",
   "metadata": {},
   "source": [
    "Q7. What do you understand about mutable and immutable data types? Give examples for both showing\n",
    "this property."
   ]
  },
  {
   "cell_type": "markdown",
   "id": "95a68a26-3394-433b-8252-401c5d6eabbd",
   "metadata": {},
   "source": [
    "Mutable data types:\n",
    "In python mutable data types means data types that can be changed after their creation or after initilization.\n",
    "Following is the list of Mutable data types:\n",
    "    List\n",
    "    Set\n",
    "    Dictionaries\n",
    "\n",
    "Immutable data types: \n",
    "This are the data types whose values can not be changed after their creation or initilization.\n",
    "Following is the list of Immutable data types:\n",
    "    Number (int, bool, float)\n",
    "    String\n",
    "    Tuple"
   ]
  },
  {
   "cell_type": "markdown",
   "id": "3eec6158-0ba3-44f0-a7dd-0a4284d26320",
   "metadata": {},
   "source": [
    "Here is an example of Mutable data type:"
   ]
  },
  {
   "cell_type": "code",
   "execution_count": 8,
   "id": "583573f1-f59c-4480-80ba-36f0470c3097",
   "metadata": {},
   "outputs": [
    {
     "name": "stdout",
     "output_type": "stream",
     "text": [
      "[4, 8, 6, 16]\n"
     ]
    }
   ],
   "source": [
    "myList = [4,8,12]\n",
    "myList[2] = 6\n",
    "myList.append(16)\n",
    "print(myList)"
   ]
  },
  {
   "cell_type": "markdown",
   "id": "0cd84788-fc77-40ea-93fe-9196dd45605c",
   "metadata": {},
   "source": [
    "Here is an example of Immutable data type:"
   ]
  },
  {
   "cell_type": "code",
   "execution_count": 9,
   "id": "569e630f-1772-4b44-8070-682cc64e9719",
   "metadata": {},
   "outputs": [
    {
     "name": "stdout",
     "output_type": "stream",
     "text": [
      "139785508162896\n",
      "139785161019376\n"
     ]
    }
   ],
   "source": [
    "num1 = 100\n",
    "print(id(num1))\n",
    "\n",
    "num1 = 500\n",
    "print(id(num1))"
   ]
  },
  {
   "cell_type": "markdown",
   "id": "6991419b-2dad-442b-8457-f133b052cca5",
   "metadata": {},
   "source": [
    "In the above example we can see the memory address of num1 when it was created, and its memory address afte if was changed. This tell us that in python reassignment doesn’t change the value of the first integer object. It just reassigns the reference."
   ]
  }
 ],
 "metadata": {
  "kernelspec": {
   "display_name": "Python 3 (ipykernel)",
   "language": "python",
   "name": "python3"
  },
  "language_info": {
   "codemirror_mode": {
    "name": "ipython",
    "version": 3
   },
   "file_extension": ".py",
   "mimetype": "text/x-python",
   "name": "python",
   "nbconvert_exporter": "python",
   "pygments_lexer": "ipython3",
   "version": "3.10.8"
  }
 },
 "nbformat": 4,
 "nbformat_minor": 5
}
